{
 "cells": [
  {
   "cell_type": "markdown",
   "metadata": {},
   "source": [
    "## Target Audience for Direct Marketing\n",
    "Perform eda on cleaned datasets\n",
    "\n",
    "Note:- CVR, or conversion rate, in in-app advertising is the percentage of users who saw an app-install ad, clicked on it, and converted through some pre-specified action. CVR tells app advertisers how many users their ad converted.<br>\n",
    "The CVR formula is calculated by dividing the number of users who converted by the number of users who clicked on the ad, and then multiplying by 100.<br>\n",
    "For example, if 1000 users saw an ad, and 15 users installed the advertised app, then the conversion rate would be 1.5% - meaning the ad converted 1.5% of users.\n",
    "\n",
    "CVR = (# of users who took action / # of users who clicked on the ad) x 100"
   ]
  },
  {
   "cell_type": "code",
   "execution_count": 44,
   "metadata": {},
   "outputs": [],
   "source": [
    "import pandas as pd\n",
    "import numpy as np\n",
    "import matplotlib.pyplot as plt\n",
    "import seaborn as sns\n",
    "from pandas.io.json import json_normalize\n",
    "%matplotlib inline\n",
    "\n",
    "from pandas.plotting import register_matplotlib_converters\n",
    "register_matplotlib_converters()"
   ]
  },
  {
   "cell_type": "code",
   "execution_count": 2,
   "metadata": {},
   "outputs": [],
   "source": [
    "customers=pd.read_csv(\"starbucks_customer_level.csv\",sep=\";\",parse_dates=[\"became_member_on\"])"
   ]
  },
  {
   "cell_type": "code",
   "execution_count": 5,
   "metadata": {},
   "outputs": [],
   "source": [
    "offers=pd.read_csv(\"starbucks_offer_level.csv\",sep=\";\")"
   ]
  },
  {
   "cell_type": "code",
   "execution_count": 7,
   "metadata": {},
   "outputs": [],
   "source": [
    "transcript=pd.read_json(\"transcript.json\",orient=\"records\",lines=True)\n",
    "profile=pd.read_json(\"profile.json\",orient=\"records\",lines=True)\n"
   ]
  },
  {
   "cell_type": "code",
   "execution_count": 8,
   "metadata": {},
   "outputs": [
    {
     "data": {
      "text/html": [
       "<div>\n",
       "<style scoped>\n",
       "    .dataframe tbody tr th:only-of-type {\n",
       "        vertical-align: middle;\n",
       "    }\n",
       "\n",
       "    .dataframe tbody tr th {\n",
       "        vertical-align: top;\n",
       "    }\n",
       "\n",
       "    .dataframe thead th {\n",
       "        text-align: right;\n",
       "    }\n",
       "</style>\n",
       "<table border=\"1\" class=\"dataframe\">\n",
       "  <thead>\n",
       "    <tr style=\"text-align: right;\">\n",
       "      <th></th>\n",
       "      <th>gender</th>\n",
       "      <th>age</th>\n",
       "      <th>id</th>\n",
       "      <th>became_member_on</th>\n",
       "      <th>income</th>\n",
       "    </tr>\n",
       "  </thead>\n",
       "  <tbody>\n",
       "    <tr>\n",
       "      <th>0</th>\n",
       "      <td>None</td>\n",
       "      <td>118</td>\n",
       "      <td>68be06ca386d4c31939f3a4f0e3dd783</td>\n",
       "      <td>20170212</td>\n",
       "      <td>NaN</td>\n",
       "    </tr>\n",
       "    <tr>\n",
       "      <th>1</th>\n",
       "      <td>F</td>\n",
       "      <td>55</td>\n",
       "      <td>0610b486422d4921ae7d2bf64640c50b</td>\n",
       "      <td>20170715</td>\n",
       "      <td>112000.0</td>\n",
       "    </tr>\n",
       "    <tr>\n",
       "      <th>2</th>\n",
       "      <td>None</td>\n",
       "      <td>118</td>\n",
       "      <td>38fe809add3b4fcf9315a9694bb96ff5</td>\n",
       "      <td>20180712</td>\n",
       "      <td>NaN</td>\n",
       "    </tr>\n",
       "    <tr>\n",
       "      <th>3</th>\n",
       "      <td>F</td>\n",
       "      <td>75</td>\n",
       "      <td>78afa995795e4d85b5d9ceeca43f5fef</td>\n",
       "      <td>20170509</td>\n",
       "      <td>100000.0</td>\n",
       "    </tr>\n",
       "    <tr>\n",
       "      <th>4</th>\n",
       "      <td>None</td>\n",
       "      <td>118</td>\n",
       "      <td>a03223e636434f42ac4c3df47e8bac43</td>\n",
       "      <td>20170804</td>\n",
       "      <td>NaN</td>\n",
       "    </tr>\n",
       "  </tbody>\n",
       "</table>\n",
       "</div>"
      ],
      "text/plain": [
       "  gender  age                                id  became_member_on    income\n",
       "0   None  118  68be06ca386d4c31939f3a4f0e3dd783          20170212       NaN\n",
       "1      F   55  0610b486422d4921ae7d2bf64640c50b          20170715  112000.0\n",
       "2   None  118  38fe809add3b4fcf9315a9694bb96ff5          20180712       NaN\n",
       "3      F   75  78afa995795e4d85b5d9ceeca43f5fef          20170509  100000.0\n",
       "4   None  118  a03223e636434f42ac4c3df47e8bac43          20170804       NaN"
      ]
     },
     "execution_count": 8,
     "metadata": {},
     "output_type": "execute_result"
    }
   ],
   "source": [
    "profile.head()"
   ]
  },
  {
   "cell_type": "code",
   "execution_count": 9,
   "metadata": {},
   "outputs": [
    {
     "name": "stdout",
     "output_type": "stream",
     "text": [
      "<class 'pandas.core.frame.DataFrame'>\n",
      "RangeIndex: 17000 entries, 0 to 16999\n",
      "Data columns (total 5 columns):\n",
      " #   Column            Non-Null Count  Dtype  \n",
      "---  ------            --------------  -----  \n",
      " 0   gender            14825 non-null  object \n",
      " 1   age               17000 non-null  int64  \n",
      " 2   id                17000 non-null  object \n",
      " 3   became_member_on  17000 non-null  int64  \n",
      " 4   income            14825 non-null  float64\n",
      "dtypes: float64(1), int64(2), object(2)\n",
      "memory usage: 664.2+ KB\n"
     ]
    }
   ],
   "source": [
    "profile.info()"
   ]
  },
  {
   "cell_type": "code",
   "execution_count": 10,
   "metadata": {},
   "outputs": [],
   "source": [
    "profile.became_member_on=pd.to_datetime(profile.became_member_on.astype(str),format=\"%Y/%m/%d\")"
   ]
  },
  {
   "cell_type": "code",
   "execution_count": 11,
   "metadata": {},
   "outputs": [
    {
     "data": {
      "text/html": [
       "<div>\n",
       "<style scoped>\n",
       "    .dataframe tbody tr th:only-of-type {\n",
       "        vertical-align: middle;\n",
       "    }\n",
       "\n",
       "    .dataframe tbody tr th {\n",
       "        vertical-align: top;\n",
       "    }\n",
       "\n",
       "    .dataframe thead th {\n",
       "        text-align: right;\n",
       "    }\n",
       "</style>\n",
       "<table border=\"1\" class=\"dataframe\">\n",
       "  <thead>\n",
       "    <tr style=\"text-align: right;\">\n",
       "      <th></th>\n",
       "      <th>gender</th>\n",
       "      <th>age</th>\n",
       "      <th>id</th>\n",
       "      <th>became_member_on</th>\n",
       "      <th>income</th>\n",
       "    </tr>\n",
       "  </thead>\n",
       "  <tbody>\n",
       "    <tr>\n",
       "      <th>0</th>\n",
       "      <td>None</td>\n",
       "      <td>118</td>\n",
       "      <td>68be06ca386d4c31939f3a4f0e3dd783</td>\n",
       "      <td>2017-02-12</td>\n",
       "      <td>NaN</td>\n",
       "    </tr>\n",
       "    <tr>\n",
       "      <th>1</th>\n",
       "      <td>F</td>\n",
       "      <td>55</td>\n",
       "      <td>0610b486422d4921ae7d2bf64640c50b</td>\n",
       "      <td>2017-07-15</td>\n",
       "      <td>112000.0</td>\n",
       "    </tr>\n",
       "    <tr>\n",
       "      <th>2</th>\n",
       "      <td>None</td>\n",
       "      <td>118</td>\n",
       "      <td>38fe809add3b4fcf9315a9694bb96ff5</td>\n",
       "      <td>2018-07-12</td>\n",
       "      <td>NaN</td>\n",
       "    </tr>\n",
       "    <tr>\n",
       "      <th>3</th>\n",
       "      <td>F</td>\n",
       "      <td>75</td>\n",
       "      <td>78afa995795e4d85b5d9ceeca43f5fef</td>\n",
       "      <td>2017-05-09</td>\n",
       "      <td>100000.0</td>\n",
       "    </tr>\n",
       "    <tr>\n",
       "      <th>4</th>\n",
       "      <td>None</td>\n",
       "      <td>118</td>\n",
       "      <td>a03223e636434f42ac4c3df47e8bac43</td>\n",
       "      <td>2017-08-04</td>\n",
       "      <td>NaN</td>\n",
       "    </tr>\n",
       "  </tbody>\n",
       "</table>\n",
       "</div>"
      ],
      "text/plain": [
       "  gender  age                                id became_member_on    income\n",
       "0   None  118  68be06ca386d4c31939f3a4f0e3dd783       2017-02-12       NaN\n",
       "1      F   55  0610b486422d4921ae7d2bf64640c50b       2017-07-15  112000.0\n",
       "2   None  118  38fe809add3b4fcf9315a9694bb96ff5       2018-07-12       NaN\n",
       "3      F   75  78afa995795e4d85b5d9ceeca43f5fef       2017-05-09  100000.0\n",
       "4   None  118  a03223e636434f42ac4c3df47e8bac43       2017-08-04       NaN"
      ]
     },
     "execution_count": 11,
     "metadata": {},
     "output_type": "execute_result"
    }
   ],
   "source": [
    "profile.head()"
   ]
  },
  {
   "cell_type": "code",
   "execution_count": 12,
   "metadata": {},
   "outputs": [
    {
     "name": "stdout",
     "output_type": "stream",
     "text": [
      "<class 'pandas.core.frame.DataFrame'>\n",
      "RangeIndex: 17000 entries, 0 to 16999\n",
      "Data columns (total 5 columns):\n",
      " #   Column            Non-Null Count  Dtype         \n",
      "---  ------            --------------  -----         \n",
      " 0   gender            14825 non-null  object        \n",
      " 1   age               17000 non-null  int64         \n",
      " 2   id                17000 non-null  object        \n",
      " 3   became_member_on  17000 non-null  datetime64[ns]\n",
      " 4   income            14825 non-null  float64       \n",
      "dtypes: datetime64[ns](1), float64(1), int64(1), object(2)\n",
      "memory usage: 664.2+ KB\n"
     ]
    }
   ],
   "source": [
    "profile.info()"
   ]
  },
  {
   "cell_type": "code",
   "execution_count": 14,
   "metadata": {},
   "outputs": [
    {
     "data": {
      "text/html": [
       "<div>\n",
       "<style scoped>\n",
       "    .dataframe tbody tr th:only-of-type {\n",
       "        vertical-align: middle;\n",
       "    }\n",
       "\n",
       "    .dataframe tbody tr th {\n",
       "        vertical-align: top;\n",
       "    }\n",
       "\n",
       "    .dataframe thead th {\n",
       "        text-align: right;\n",
       "    }\n",
       "</style>\n",
       "<table border=\"1\" class=\"dataframe\">\n",
       "  <thead>\n",
       "    <tr style=\"text-align: right;\">\n",
       "      <th></th>\n",
       "      <th>gender</th>\n",
       "      <th>age</th>\n",
       "      <th>person</th>\n",
       "      <th>became_member_on</th>\n",
       "      <th>income</th>\n",
       "      <th>total_amount</th>\n",
       "      <th>total_rewarded</th>\n",
       "      <th>transactions_num</th>\n",
       "      <th>offers_received</th>\n",
       "      <th>offers_viewed</th>\n",
       "      <th>...</th>\n",
       "      <th>avg_reward_size</th>\n",
       "      <th>avg_bogo_size</th>\n",
       "      <th>avg_discount_size</th>\n",
       "      <th>offers_rr</th>\n",
       "      <th>offers_cvr</th>\n",
       "      <th>bogo_rr</th>\n",
       "      <th>bogo_cvr</th>\n",
       "      <th>discount_rr</th>\n",
       "      <th>discount_cvr</th>\n",
       "      <th>informational_rr</th>\n",
       "    </tr>\n",
       "  </thead>\n",
       "  <tbody>\n",
       "    <tr>\n",
       "      <th>0</th>\n",
       "      <td>NaN</td>\n",
       "      <td>NaN</td>\n",
       "      <td>68be06ca386d4c31939f3a4f0e3dd783</td>\n",
       "      <td>2017-01-01</td>\n",
       "      <td>NaN</td>\n",
       "      <td>20.40</td>\n",
       "      <td>5.0</td>\n",
       "      <td>9</td>\n",
       "      <td>5.0</td>\n",
       "      <td>5.0</td>\n",
       "      <td>...</td>\n",
       "      <td>2.5</td>\n",
       "      <td>0.0</td>\n",
       "      <td>2.5</td>\n",
       "      <td>100.0</td>\n",
       "      <td>40.0</td>\n",
       "      <td>0.0</td>\n",
       "      <td>0.00</td>\n",
       "      <td>100.00</td>\n",
       "      <td>40.0</td>\n",
       "      <td>0.0</td>\n",
       "    </tr>\n",
       "    <tr>\n",
       "      <th>1</th>\n",
       "      <td>F</td>\n",
       "      <td>55.0</td>\n",
       "      <td>0610b486422d4921ae7d2bf64640c50b</td>\n",
       "      <td>2017-01-01</td>\n",
       "      <td>112000.0</td>\n",
       "      <td>77.01</td>\n",
       "      <td>0.0</td>\n",
       "      <td>3</td>\n",
       "      <td>2.0</td>\n",
       "      <td>0.0</td>\n",
       "      <td>...</td>\n",
       "      <td>0.0</td>\n",
       "      <td>0.0</td>\n",
       "      <td>0.0</td>\n",
       "      <td>0.0</td>\n",
       "      <td>0.0</td>\n",
       "      <td>0.0</td>\n",
       "      <td>0.00</td>\n",
       "      <td>0.00</td>\n",
       "      <td>0.0</td>\n",
       "      <td>0.0</td>\n",
       "    </tr>\n",
       "    <tr>\n",
       "      <th>2</th>\n",
       "      <td>NaN</td>\n",
       "      <td>NaN</td>\n",
       "      <td>38fe809add3b4fcf9315a9694bb96ff5</td>\n",
       "      <td>2018-01-01</td>\n",
       "      <td>NaN</td>\n",
       "      <td>14.30</td>\n",
       "      <td>0.0</td>\n",
       "      <td>6</td>\n",
       "      <td>2.0</td>\n",
       "      <td>1.0</td>\n",
       "      <td>...</td>\n",
       "      <td>0.0</td>\n",
       "      <td>0.0</td>\n",
       "      <td>0.0</td>\n",
       "      <td>50.0</td>\n",
       "      <td>0.0</td>\n",
       "      <td>100.0</td>\n",
       "      <td>0.00</td>\n",
       "      <td>0.00</td>\n",
       "      <td>0.0</td>\n",
       "      <td>0.0</td>\n",
       "    </tr>\n",
       "    <tr>\n",
       "      <th>3</th>\n",
       "      <td>F</td>\n",
       "      <td>75.0</td>\n",
       "      <td>78afa995795e4d85b5d9ceeca43f5fef</td>\n",
       "      <td>2017-01-01</td>\n",
       "      <td>100000.0</td>\n",
       "      <td>159.27</td>\n",
       "      <td>15.0</td>\n",
       "      <td>7</td>\n",
       "      <td>4.0</td>\n",
       "      <td>4.0</td>\n",
       "      <td>...</td>\n",
       "      <td>7.5</td>\n",
       "      <td>7.5</td>\n",
       "      <td>0.0</td>\n",
       "      <td>100.0</td>\n",
       "      <td>50.0</td>\n",
       "      <td>100.0</td>\n",
       "      <td>66.67</td>\n",
       "      <td>0.00</td>\n",
       "      <td>0.0</td>\n",
       "      <td>100.0</td>\n",
       "    </tr>\n",
       "    <tr>\n",
       "      <th>4</th>\n",
       "      <td>NaN</td>\n",
       "      <td>NaN</td>\n",
       "      <td>a03223e636434f42ac4c3df47e8bac43</td>\n",
       "      <td>2017-01-01</td>\n",
       "      <td>NaN</td>\n",
       "      <td>4.65</td>\n",
       "      <td>0.0</td>\n",
       "      <td>3</td>\n",
       "      <td>5.0</td>\n",
       "      <td>3.0</td>\n",
       "      <td>...</td>\n",
       "      <td>0.0</td>\n",
       "      <td>0.0</td>\n",
       "      <td>0.0</td>\n",
       "      <td>60.0</td>\n",
       "      <td>0.0</td>\n",
       "      <td>0.0</td>\n",
       "      <td>0.00</td>\n",
       "      <td>66.67</td>\n",
       "      <td>0.0</td>\n",
       "      <td>50.0</td>\n",
       "    </tr>\n",
       "  </tbody>\n",
       "</table>\n",
       "<p>5 rows × 32 columns</p>\n",
       "</div>"
      ],
      "text/plain": [
       "  gender   age                            person became_member_on    income  \\\n",
       "0    NaN   NaN  68be06ca386d4c31939f3a4f0e3dd783       2017-01-01       NaN   \n",
       "1      F  55.0  0610b486422d4921ae7d2bf64640c50b       2017-01-01  112000.0   \n",
       "2    NaN   NaN  38fe809add3b4fcf9315a9694bb96ff5       2018-01-01       NaN   \n",
       "3      F  75.0  78afa995795e4d85b5d9ceeca43f5fef       2017-01-01  100000.0   \n",
       "4    NaN   NaN  a03223e636434f42ac4c3df47e8bac43       2017-01-01       NaN   \n",
       "\n",
       "   total_amount  total_rewarded  transactions_num  offers_received  \\\n",
       "0         20.40             5.0                 9              5.0   \n",
       "1         77.01             0.0                 3              2.0   \n",
       "2         14.30             0.0                 6              2.0   \n",
       "3        159.27            15.0                 7              4.0   \n",
       "4          4.65             0.0                 3              5.0   \n",
       "\n",
       "   offers_viewed  ...  avg_reward_size  avg_bogo_size  avg_discount_size  \\\n",
       "0            5.0  ...              2.5            0.0                2.5   \n",
       "1            0.0  ...              0.0            0.0                0.0   \n",
       "2            1.0  ...              0.0            0.0                0.0   \n",
       "3            4.0  ...              7.5            7.5                0.0   \n",
       "4            3.0  ...              0.0            0.0                0.0   \n",
       "\n",
       "   offers_rr  offers_cvr  bogo_rr  bogo_cvr  discount_rr  discount_cvr  \\\n",
       "0      100.0        40.0      0.0      0.00       100.00          40.0   \n",
       "1        0.0         0.0      0.0      0.00         0.00           0.0   \n",
       "2       50.0         0.0    100.0      0.00         0.00           0.0   \n",
       "3      100.0        50.0    100.0     66.67         0.00           0.0   \n",
       "4       60.0         0.0      0.0      0.00        66.67           0.0   \n",
       "\n",
       "   informational_rr  \n",
       "0               0.0  \n",
       "1               0.0  \n",
       "2               0.0  \n",
       "3             100.0  \n",
       "4              50.0  \n",
       "\n",
       "[5 rows x 32 columns]"
      ]
     },
     "execution_count": 14,
     "metadata": {},
     "output_type": "execute_result"
    }
   ],
   "source": [
    "customers.head()"
   ]
  },
  {
   "cell_type": "code",
   "execution_count": 15,
   "metadata": {},
   "outputs": [
    {
     "name": "stdout",
     "output_type": "stream",
     "text": [
      "<class 'pandas.core.frame.DataFrame'>\n",
      "RangeIndex: 17000 entries, 0 to 16999\n",
      "Data columns (total 32 columns):\n",
      " #   Column                  Non-Null Count  Dtype         \n",
      "---  ------                  --------------  -----         \n",
      " 0   gender                  14825 non-null  object        \n",
      " 1   age                     14825 non-null  float64       \n",
      " 2   person                  17000 non-null  object        \n",
      " 3   became_member_on        17000 non-null  datetime64[ns]\n",
      " 4   income                  14825 non-null  float64       \n",
      " 5   total_amount            17000 non-null  float64       \n",
      " 6   total_rewarded          17000 non-null  float64       \n",
      " 7   transactions_num        17000 non-null  int64         \n",
      " 8   offers_received         17000 non-null  float64       \n",
      " 9   offers_viewed           17000 non-null  float64       \n",
      " 10  offers_completed        17000 non-null  float64       \n",
      " 11  bogo_received           17000 non-null  float64       \n",
      " 12  bogo_viewed             17000 non-null  float64       \n",
      " 13  bogo_completed          17000 non-null  float64       \n",
      " 14  discount_received       17000 non-null  float64       \n",
      " 15  discount_viewed         17000 non-null  float64       \n",
      " 16  discount_completed      17000 non-null  float64       \n",
      " 17  informational_received  17000 non-null  float64       \n",
      " 18  informational_viewed    17000 non-null  float64       \n",
      " 19  total_bogo              17000 non-null  float64       \n",
      " 20  total_discount          17000 non-null  float64       \n",
      " 21  avg_order_size          17000 non-null  float64       \n",
      " 22  avg_reward_size         17000 non-null  float64       \n",
      " 23  avg_bogo_size           17000 non-null  float64       \n",
      " 24  avg_discount_size       17000 non-null  float64       \n",
      " 25  offers_rr               17000 non-null  float64       \n",
      " 26  offers_cvr              17000 non-null  float64       \n",
      " 27  bogo_rr                 17000 non-null  float64       \n",
      " 28  bogo_cvr                17000 non-null  float64       \n",
      " 29  discount_rr             17000 non-null  float64       \n",
      " 30  discount_cvr            17000 non-null  float64       \n",
      " 31  informational_rr        17000 non-null  float64       \n",
      "dtypes: datetime64[ns](1), float64(28), int64(1), object(2)\n",
      "memory usage: 4.2+ MB\n"
     ]
    }
   ],
   "source": [
    "customers.info()"
   ]
  },
  {
   "cell_type": "code",
   "execution_count": 28,
   "metadata": {},
   "outputs": [
    {
     "data": {
      "text/plain": [
       "Text(0.5, 1.0, 'Distribution of membership distribution')"
      ]
     },
     "execution_count": 28,
     "metadata": {},
     "output_type": "execute_result"
    },
    {
     "data": {
      "image/png": "[encoded data removed]",
      "text/plain": [
       "<Figure size 432x288 with 1 Axes>"
      ]
     },
     "metadata": {
      "needs_background": "light"
     },
     "output_type": "display_data"
    }
   ],
   "source": [
    "plt.hist(profile[\"became_member_on\"])\n",
    "plt.ylim(0,6000)\n",
    "plt.title(\"Distribution of membership distribution\")"
   ]
  },
  {
   "cell_type": "code",
   "execution_count": 31,
   "metadata": {},
   "outputs": [
    {
     "data": {
      "text/plain": [
       "(0.0, 6000.0)"
      ]
     },
     "execution_count": 31,
     "metadata": {},
     "output_type": "execute_result"
    },
    {
     "data": {
      "image/png": "[encoded data removed]",
      "text/plain": [
       "<Figure size 432x288 with 1 Axes>"
      ]
     },
     "metadata": {
      "needs_background": "light"
     },
     "output_type": "display_data"
    }
   ],
   "source": [
    "plt.hist(customers.age)\n",
    "plt.title(\"Age distribution\")\n",
    "plt.ylim(0,6000)"
   ]
  },
  {
   "cell_type": "code",
   "execution_count": 35,
   "metadata": {},
   "outputs": [
    {
     "data": {
      "text/plain": [
       "(0.0, 4000.0)"
      ]
     },
     "execution_count": 35,
     "metadata": {},
     "output_type": "execute_result"
    },
    {
     "data": {
      "image/png": "[encoded data removed]",
      "text/plain": [
       "<Figure size 432x288 with 1 Axes>"
      ]
     },
     "metadata": {
      "needs_background": "light"
     },
     "output_type": "display_data"
    }
   ],
   "source": [
    "plt.hist(customers.income)\n",
    "plt.title(\"Income distribution\")\n",
    "plt.ylim(0,4000)"
   ]
  },
  {
   "cell_type": "code",
   "execution_count": 36,
   "metadata": {},
   "outputs": [
    {
     "data": {
      "text/plain": [
       "<matplotlib.axes._subplots.AxesSubplot at 0x253d751f188>"
      ]
     },
     "execution_count": 36,
     "metadata": {},
     "output_type": "execute_result"
    },
    {
     "data": {
      "image/png": "[encoded data removed]",
      "text/plain": [
       "<Figure size 432x288 with 1 Axes>"
      ]
     },
     "metadata": {
      "needs_background": "light"
     },
     "output_type": "display_data"
    }
   ],
   "source": [
    "sns.countplot(customers.gender)"
   ]
  },
  {
   "cell_type": "code",
   "execution_count": 37,
   "metadata": {},
   "outputs": [
    {
     "data": {
      "text/plain": [
       "M    8484\n",
       "F    6129\n",
       "O     212\n",
       "Name: gender, dtype: int64"
      ]
     },
     "execution_count": 37,
     "metadata": {},
     "output_type": "execute_result"
    }
   ],
   "source": [
    "customers.gender.value_counts()"
   ]
  },
  {
   "cell_type": "code",
   "execution_count": 39,
   "metadata": {},
   "outputs": [
    {
     "name": "stdout",
     "output_type": "stream",
     "text": [
      "Earliest member since 2013-01-01 00:00:00  and recent member on 2018-01-01 00:00:00\n"
     ]
    }
   ],
   "source": [
    "print(\"Earliest member since\",customers.became_member_on.min(),\" and recent member on\",customers.became_member_on.max())"
   ]
  },
  {
   "cell_type": "code",
   "execution_count": 43,
   "metadata": {},
   "outputs": [
    {
     "data": {
      "text/html": [
       "<div>\n",
       "<style scoped>\n",
       "    .dataframe tbody tr th:only-of-type {\n",
       "        vertical-align: middle;\n",
       "    }\n",
       "\n",
       "    .dataframe tbody tr th {\n",
       "        vertical-align: top;\n",
       "    }\n",
       "\n",
       "    .dataframe thead th {\n",
       "        text-align: right;\n",
       "    }\n",
       "</style>\n",
       "<table border=\"1\" class=\"dataframe\">\n",
       "  <thead>\n",
       "    <tr style=\"text-align: right;\">\n",
       "      <th></th>\n",
       "      <th>count</th>\n",
       "      <th>mean</th>\n",
       "      <th>std</th>\n",
       "      <th>min</th>\n",
       "      <th>25%</th>\n",
       "      <th>50%</th>\n",
       "      <th>75%</th>\n",
       "      <th>max</th>\n",
       "    </tr>\n",
       "  </thead>\n",
       "  <tbody>\n",
       "    <tr>\n",
       "      <th>age</th>\n",
       "      <td>14825.0</td>\n",
       "      <td>54.393524</td>\n",
       "      <td>17.383705</td>\n",
       "      <td>18.0</td>\n",
       "      <td>42.00</td>\n",
       "      <td>55.000</td>\n",
       "      <td>66.0000</td>\n",
       "      <td>101.00</td>\n",
       "    </tr>\n",
       "    <tr>\n",
       "      <th>income</th>\n",
       "      <td>14825.0</td>\n",
       "      <td>65404.991568</td>\n",
       "      <td>21598.299410</td>\n",
       "      <td>30000.0</td>\n",
       "      <td>49000.00</td>\n",
       "      <td>64000.000</td>\n",
       "      <td>80000.0000</td>\n",
       "      <td>120000.00</td>\n",
       "    </tr>\n",
       "    <tr>\n",
       "      <th>total_amount</th>\n",
       "      <td>17000.0</td>\n",
       "      <td>104.438351</td>\n",
       "      <td>125.922619</td>\n",
       "      <td>0.0</td>\n",
       "      <td>21.82</td>\n",
       "      <td>69.405</td>\n",
       "      <td>148.7825</td>\n",
       "      <td>1608.69</td>\n",
       "    </tr>\n",
       "    <tr>\n",
       "      <th>total_rewarded</th>\n",
       "      <td>17000.0</td>\n",
       "      <td>5.581941</td>\n",
       "      <td>6.752801</td>\n",
       "      <td>0.0</td>\n",
       "      <td>0.00</td>\n",
       "      <td>3.000</td>\n",
       "      <td>10.0000</td>\n",
       "      <td>55.00</td>\n",
       "    </tr>\n",
       "    <tr>\n",
       "      <th>transactions_num</th>\n",
       "      <td>17000.0</td>\n",
       "      <td>8.173706</td>\n",
       "      <td>5.116250</td>\n",
       "      <td>0.0</td>\n",
       "      <td>4.00</td>\n",
       "      <td>7.000</td>\n",
       "      <td>11.0000</td>\n",
       "      <td>36.00</td>\n",
       "    </tr>\n",
       "    <tr>\n",
       "      <th>offers_received</th>\n",
       "      <td>17000.0</td>\n",
       "      <td>4.486882</td>\n",
       "      <td>1.076165</td>\n",
       "      <td>0.0</td>\n",
       "      <td>4.00</td>\n",
       "      <td>5.000</td>\n",
       "      <td>5.0000</td>\n",
       "      <td>6.00</td>\n",
       "    </tr>\n",
       "    <tr>\n",
       "      <th>offers_viewed</th>\n",
       "      <td>17000.0</td>\n",
       "      <td>3.266706</td>\n",
       "      <td>1.354569</td>\n",
       "      <td>0.0</td>\n",
       "      <td>2.00</td>\n",
       "      <td>3.000</td>\n",
       "      <td>4.0000</td>\n",
       "      <td>6.00</td>\n",
       "    </tr>\n",
       "    <tr>\n",
       "      <th>offers_completed</th>\n",
       "      <td>17000.0</td>\n",
       "      <td>1.156235</td>\n",
       "      <td>1.170933</td>\n",
       "      <td>0.0</td>\n",
       "      <td>0.00</td>\n",
       "      <td>1.000</td>\n",
       "      <td>2.0000</td>\n",
       "      <td>6.00</td>\n",
       "    </tr>\n",
       "    <tr>\n",
       "      <th>bogo_received</th>\n",
       "      <td>17000.0</td>\n",
       "      <td>1.794059</td>\n",
       "      <td>1.120485</td>\n",
       "      <td>0.0</td>\n",
       "      <td>1.00</td>\n",
       "      <td>2.000</td>\n",
       "      <td>3.0000</td>\n",
       "      <td>6.00</td>\n",
       "    </tr>\n",
       "    <tr>\n",
       "      <th>bogo_viewed</th>\n",
       "      <td>17000.0</td>\n",
       "      <td>1.465059</td>\n",
       "      <td>1.059699</td>\n",
       "      <td>0.0</td>\n",
       "      <td>1.00</td>\n",
       "      <td>1.000</td>\n",
       "      <td>2.0000</td>\n",
       "      <td>6.00</td>\n",
       "    </tr>\n",
       "    <tr>\n",
       "      <th>bogo_completed</th>\n",
       "      <td>17000.0</td>\n",
       "      <td>0.520176</td>\n",
       "      <td>0.776632</td>\n",
       "      <td>0.0</td>\n",
       "      <td>0.00</td>\n",
       "      <td>0.000</td>\n",
       "      <td>1.0000</td>\n",
       "      <td>5.00</td>\n",
       "    </tr>\n",
       "    <tr>\n",
       "      <th>discount_received</th>\n",
       "      <td>17000.0</td>\n",
       "      <td>1.796647</td>\n",
       "      <td>1.131248</td>\n",
       "      <td>0.0</td>\n",
       "      <td>1.00</td>\n",
       "      <td>2.000</td>\n",
       "      <td>3.0000</td>\n",
       "      <td>6.00</td>\n",
       "    </tr>\n",
       "    <tr>\n",
       "      <th>discount_viewed</th>\n",
       "      <td>17000.0</td>\n",
       "      <td>1.239706</td>\n",
       "      <td>1.028684</td>\n",
       "      <td>0.0</td>\n",
       "      <td>0.00</td>\n",
       "      <td>1.000</td>\n",
       "      <td>2.0000</td>\n",
       "      <td>6.00</td>\n",
       "    </tr>\n",
       "    <tr>\n",
       "      <th>discount_completed</th>\n",
       "      <td>17000.0</td>\n",
       "      <td>0.636059</td>\n",
       "      <td>0.824121</td>\n",
       "      <td>0.0</td>\n",
       "      <td>0.00</td>\n",
       "      <td>0.000</td>\n",
       "      <td>1.0000</td>\n",
       "      <td>5.00</td>\n",
       "    </tr>\n",
       "    <tr>\n",
       "      <th>informational_received</th>\n",
       "      <td>17000.0</td>\n",
       "      <td>0.896176</td>\n",
       "      <td>0.874963</td>\n",
       "      <td>0.0</td>\n",
       "      <td>0.00</td>\n",
       "      <td>1.000</td>\n",
       "      <td>1.0000</td>\n",
       "      <td>5.00</td>\n",
       "    </tr>\n",
       "    <tr>\n",
       "      <th>informational_viewed</th>\n",
       "      <td>17000.0</td>\n",
       "      <td>0.561941</td>\n",
       "      <td>0.735380</td>\n",
       "      <td>0.0</td>\n",
       "      <td>0.00</td>\n",
       "      <td>0.000</td>\n",
       "      <td>1.0000</td>\n",
       "      <td>5.00</td>\n",
       "    </tr>\n",
       "    <tr>\n",
       "      <th>total_bogo</th>\n",
       "      <td>17000.0</td>\n",
       "      <td>3.882647</td>\n",
       "      <td>6.144766</td>\n",
       "      <td>0.0</td>\n",
       "      <td>0.00</td>\n",
       "      <td>0.000</td>\n",
       "      <td>5.0000</td>\n",
       "      <td>50.00</td>\n",
       "    </tr>\n",
       "    <tr>\n",
       "      <th>total_discount</th>\n",
       "      <td>17000.0</td>\n",
       "      <td>1.699294</td>\n",
       "      <td>2.351574</td>\n",
       "      <td>0.0</td>\n",
       "      <td>0.00</td>\n",
       "      <td>0.000</td>\n",
       "      <td>3.0000</td>\n",
       "      <td>19.00</td>\n",
       "    </tr>\n",
       "    <tr>\n",
       "      <th>avg_order_size</th>\n",
       "      <td>17000.0</td>\n",
       "      <td>13.340649</td>\n",
       "      <td>15.998453</td>\n",
       "      <td>0.0</td>\n",
       "      <td>3.04</td>\n",
       "      <td>11.410</td>\n",
       "      <td>20.2400</td>\n",
       "      <td>451.47</td>\n",
       "    </tr>\n",
       "    <tr>\n",
       "      <th>avg_reward_size</th>\n",
       "      <td>17000.0</td>\n",
       "      <td>2.951226</td>\n",
       "      <td>3.002326</td>\n",
       "      <td>0.0</td>\n",
       "      <td>0.00</td>\n",
       "      <td>2.500</td>\n",
       "      <td>5.0000</td>\n",
       "      <td>10.00</td>\n",
       "    </tr>\n",
       "    <tr>\n",
       "      <th>avg_bogo_size</th>\n",
       "      <td>17000.0</td>\n",
       "      <td>2.786979</td>\n",
       "      <td>3.855307</td>\n",
       "      <td>0.0</td>\n",
       "      <td>0.00</td>\n",
       "      <td>0.000</td>\n",
       "      <td>5.0000</td>\n",
       "      <td>10.00</td>\n",
       "    </tr>\n",
       "    <tr>\n",
       "      <th>avg_discount_size</th>\n",
       "      <td>17000.0</td>\n",
       "      <td>1.205397</td>\n",
       "      <td>1.433173</td>\n",
       "      <td>0.0</td>\n",
       "      <td>0.00</td>\n",
       "      <td>0.000</td>\n",
       "      <td>2.0000</td>\n",
       "      <td>5.00</td>\n",
       "    </tr>\n",
       "    <tr>\n",
       "      <th>offers_rr</th>\n",
       "      <td>17000.0</td>\n",
       "      <td>73.068568</td>\n",
       "      <td>25.465248</td>\n",
       "      <td>0.0</td>\n",
       "      <td>50.00</td>\n",
       "      <td>75.000</td>\n",
       "      <td>100.0000</td>\n",
       "      <td>100.00</td>\n",
       "    </tr>\n",
       "    <tr>\n",
       "      <th>offers_cvr</th>\n",
       "      <td>17000.0</td>\n",
       "      <td>34.452880</td>\n",
       "      <td>32.993342</td>\n",
       "      <td>0.0</td>\n",
       "      <td>0.00</td>\n",
       "      <td>33.330</td>\n",
       "      <td>60.0000</td>\n",
       "      <td>100.00</td>\n",
       "    </tr>\n",
       "    <tr>\n",
       "      <th>bogo_rr</th>\n",
       "      <td>17000.0</td>\n",
       "      <td>72.503930</td>\n",
       "      <td>39.292697</td>\n",
       "      <td>0.0</td>\n",
       "      <td>50.00</td>\n",
       "      <td>100.000</td>\n",
       "      <td>100.0000</td>\n",
       "      <td>100.00</td>\n",
       "    </tr>\n",
       "    <tr>\n",
       "      <th>bogo_cvr</th>\n",
       "      <td>17000.0</td>\n",
       "      <td>28.781861</td>\n",
       "      <td>40.440557</td>\n",
       "      <td>0.0</td>\n",
       "      <td>0.00</td>\n",
       "      <td>0.000</td>\n",
       "      <td>50.0000</td>\n",
       "      <td>100.00</td>\n",
       "    </tr>\n",
       "    <tr>\n",
       "      <th>discount_rr</th>\n",
       "      <td>17000.0</td>\n",
       "      <td>61.110842</td>\n",
       "      <td>42.101023</td>\n",
       "      <td>0.0</td>\n",
       "      <td>0.00</td>\n",
       "      <td>66.670</td>\n",
       "      <td>100.0000</td>\n",
       "      <td>100.00</td>\n",
       "    </tr>\n",
       "    <tr>\n",
       "      <th>discount_cvr</th>\n",
       "      <td>17000.0</td>\n",
       "      <td>38.222179</td>\n",
       "      <td>44.886484</td>\n",
       "      <td>0.0</td>\n",
       "      <td>0.00</td>\n",
       "      <td>0.000</td>\n",
       "      <td>100.0000</td>\n",
       "      <td>100.00</td>\n",
       "    </tr>\n",
       "    <tr>\n",
       "      <th>informational_rr</th>\n",
       "      <td>17000.0</td>\n",
       "      <td>39.309119</td>\n",
       "      <td>46.689329</td>\n",
       "      <td>0.0</td>\n",
       "      <td>0.00</td>\n",
       "      <td>0.000</td>\n",
       "      <td>100.0000</td>\n",
       "      <td>100.00</td>\n",
       "    </tr>\n",
       "  </tbody>\n",
       "</table>\n",
       "</div>"
      ],
      "text/plain": [
       "                          count          mean           std      min  \\\n",
       "age                     14825.0     54.393524     17.383705     18.0   \n",
       "income                  14825.0  65404.991568  21598.299410  30000.0   \n",
       "total_amount            17000.0    104.438351    125.922619      0.0   \n",
       "total_rewarded          17000.0      5.581941      6.752801      0.0   \n",
       "transactions_num        17000.0      8.173706      5.116250      0.0   \n",
       "offers_received         17000.0      4.486882      1.076165      0.0   \n",
       "offers_viewed           17000.0      3.266706      1.354569      0.0   \n",
       "offers_completed        17000.0      1.156235      1.170933      0.0   \n",
       "bogo_received           17000.0      1.794059      1.120485      0.0   \n",
       "bogo_viewed             17000.0      1.465059      1.059699      0.0   \n",
       "bogo_completed          17000.0      0.520176      0.776632      0.0   \n",
       "discount_received       17000.0      1.796647      1.131248      0.0   \n",
       "discount_viewed         17000.0      1.239706      1.028684      0.0   \n",
       "discount_completed      17000.0      0.636059      0.824121      0.0   \n",
       "informational_received  17000.0      0.896176      0.874963      0.0   \n",
       "informational_viewed    17000.0      0.561941      0.735380      0.0   \n",
       "total_bogo              17000.0      3.882647      6.144766      0.0   \n",
       "total_discount          17000.0      1.699294      2.351574      0.0   \n",
       "avg_order_size          17000.0     13.340649     15.998453      0.0   \n",
       "avg_reward_size         17000.0      2.951226      3.002326      0.0   \n",
       "avg_bogo_size           17000.0      2.786979      3.855307      0.0   \n",
       "avg_discount_size       17000.0      1.205397      1.433173      0.0   \n",
       "offers_rr               17000.0     73.068568     25.465248      0.0   \n",
       "offers_cvr              17000.0     34.452880     32.993342      0.0   \n",
       "bogo_rr                 17000.0     72.503930     39.292697      0.0   \n",
       "bogo_cvr                17000.0     28.781861     40.440557      0.0   \n",
       "discount_rr             17000.0     61.110842     42.101023      0.0   \n",
       "discount_cvr            17000.0     38.222179     44.886484      0.0   \n",
       "informational_rr        17000.0     39.309119     46.689329      0.0   \n",
       "\n",
       "                             25%        50%         75%        max  \n",
       "age                        42.00     55.000     66.0000     101.00  \n",
       "income                  49000.00  64000.000  80000.0000  120000.00  \n",
       "total_amount               21.82     69.405    148.7825    1608.69  \n",
       "total_rewarded              0.00      3.000     10.0000      55.00  \n",
       "transactions_num            4.00      7.000     11.0000      36.00  \n",
       "offers_received             4.00      5.000      5.0000       6.00  \n",
       "offers_viewed               2.00      3.000      4.0000       6.00  \n",
       "offers_completed            0.00      1.000      2.0000       6.00  \n",
       "bogo_received               1.00      2.000      3.0000       6.00  \n",
       "bogo_viewed                 1.00      1.000      2.0000       6.00  \n",
       "bogo_completed              0.00      0.000      1.0000       5.00  \n",
       "discount_received           1.00      2.000      3.0000       6.00  \n",
       "discount_viewed             0.00      1.000      2.0000       6.00  \n",
       "discount_completed          0.00      0.000      1.0000       5.00  \n",
       "informational_received      0.00      1.000      1.0000       5.00  \n",
       "informational_viewed        0.00      0.000      1.0000       5.00  \n",
       "total_bogo                  0.00      0.000      5.0000      50.00  \n",
       "total_discount              0.00      0.000      3.0000      19.00  \n",
       "avg_order_size              3.04     11.410     20.2400     451.47  \n",
       "avg_reward_size             0.00      2.500      5.0000      10.00  \n",
       "avg_bogo_size               0.00      0.000      5.0000      10.00  \n",
       "avg_discount_size           0.00      0.000      2.0000       5.00  \n",
       "offers_rr                  50.00     75.000    100.0000     100.00  \n",
       "offers_cvr                  0.00     33.330     60.0000     100.00  \n",
       "bogo_rr                    50.00    100.000    100.0000     100.00  \n",
       "bogo_cvr                    0.00      0.000     50.0000     100.00  \n",
       "discount_rr                 0.00     66.670    100.0000     100.00  \n",
       "discount_cvr                0.00      0.000    100.0000     100.00  \n",
       "informational_rr            0.00      0.000    100.0000     100.00  "
      ]
     },
     "execution_count": 43,
     "metadata": {},
     "output_type": "execute_result"
    }
   ],
   "source": [
    "customers.describe().T #vertical"
   ]
  },
  {
   "cell_type": "markdown",
   "metadata": {},
   "source": [
    "### observations\n",
    "The customers are mainly of the age group 55 with average income dlr 65405 During the experiment the customers average spend is dlr 104.43 and got on average dlr 5 rewarded and maximum reward is dlr 55. On average customers would make 8 transactionsorder size of $13.\n",
    "\n",
    "The customers would recieve 5 offers on average and max is 6. out of which 3 offers were viewed and only 1 would complete. The average return on bogo is higher than on discount ie dlr 3.8 to dlr 1.7. Each customer viewed on average 73% of offeres they recieved (Response rate). BOGO offers being reviewed more(72.5%) as compared to discount (61%) and international(39.3%).\n",
    "Out of all the customers around 34% acted upon those offers with cvr for discounts being higher (38%) than for bogo(29%)"
   ]
  },
  {
   "cell_type": "code",
   "execution_count": 45,
   "metadata": {},
   "outputs": [
    {
     "data": {
      "text/html": [
       "<div>\n",
       "<style scoped>\n",
       "    .dataframe tbody tr th:only-of-type {\n",
       "        vertical-align: middle;\n",
       "    }\n",
       "\n",
       "    .dataframe tbody tr th {\n",
       "        vertical-align: top;\n",
       "    }\n",
       "\n",
       "    .dataframe thead th {\n",
       "        text-align: right;\n",
       "    }\n",
       "</style>\n",
       "<table border=\"1\" class=\"dataframe\">\n",
       "  <thead>\n",
       "    <tr style=\"text-align: right;\">\n",
       "      <th></th>\n",
       "      <th>person</th>\n",
       "      <th>event</th>\n",
       "      <th>value</th>\n",
       "      <th>time</th>\n",
       "    </tr>\n",
       "  </thead>\n",
       "  <tbody>\n",
       "    <tr>\n",
       "      <th>0</th>\n",
       "      <td>78afa995795e4d85b5d9ceeca43f5fef</td>\n",
       "      <td>offer received</td>\n",
       "      <td>{'offer id': '9b98b8c7a33c4b65b9aebfe6a799e6d9'}</td>\n",
       "      <td>0</td>\n",
       "    </tr>\n",
       "    <tr>\n",
       "      <th>1</th>\n",
       "      <td>a03223e636434f42ac4c3df47e8bac43</td>\n",
       "      <td>offer received</td>\n",
       "      <td>{'offer id': '0b1e1539f2cc45b7b9fa7c272da2e1d7'}</td>\n",
       "      <td>0</td>\n",
       "    </tr>\n",
       "    <tr>\n",
       "      <th>2</th>\n",
       "      <td>e2127556f4f64592b11af22de27a7932</td>\n",
       "      <td>offer received</td>\n",
       "      <td>{'offer id': '2906b810c7d4411798c6938adc9daaa5'}</td>\n",
       "      <td>0</td>\n",
       "    </tr>\n",
       "    <tr>\n",
       "      <th>3</th>\n",
       "      <td>8ec6ce2a7e7949b1bf142def7d0e0586</td>\n",
       "      <td>offer received</td>\n",
       "      <td>{'offer id': 'fafdcd668e3743c1bb461111dcafc2a4'}</td>\n",
       "      <td>0</td>\n",
       "    </tr>\n",
       "    <tr>\n",
       "      <th>4</th>\n",
       "      <td>68617ca6246f4fbc85e91a2a49552598</td>\n",
       "      <td>offer received</td>\n",
       "      <td>{'offer id': '4d5c57ea9a6940dd891ad53e9dbe8da0'}</td>\n",
       "      <td>0</td>\n",
       "    </tr>\n",
       "  </tbody>\n",
       "</table>\n",
       "</div>"
      ],
      "text/plain": [
       "                             person           event  \\\n",
       "0  78afa995795e4d85b5d9ceeca43f5fef  offer received   \n",
       "1  a03223e636434f42ac4c3df47e8bac43  offer received   \n",
       "2  e2127556f4f64592b11af22de27a7932  offer received   \n",
       "3  8ec6ce2a7e7949b1bf142def7d0e0586  offer received   \n",
       "4  68617ca6246f4fbc85e91a2a49552598  offer received   \n",
       "\n",
       "                                              value  time  \n",
       "0  {'offer id': '9b98b8c7a33c4b65b9aebfe6a799e6d9'}     0  \n",
       "1  {'offer id': '0b1e1539f2cc45b7b9fa7c272da2e1d7'}     0  \n",
       "2  {'offer id': '2906b810c7d4411798c6938adc9daaa5'}     0  \n",
       "3  {'offer id': 'fafdcd668e3743c1bb461111dcafc2a4'}     0  \n",
       "4  {'offer id': '4d5c57ea9a6940dd891ad53e9dbe8da0'}     0  "
      ]
     },
     "execution_count": 45,
     "metadata": {},
     "output_type": "execute_result"
    }
   ],
   "source": [
    "transcript.head()"
   ]
  },
  {
   "cell_type": "code",
   "execution_count": 56,
   "metadata": {},
   "outputs": [
    {
     "data": {
      "image/png": "[encoded data removed]",
      "text/plain": [
       "<Figure size 432x288 with 1 Axes>"
      ]
     },
     "metadata": {
      "needs_background": "light"
     },
     "output_type": "display_data"
    }
   ],
   "source": [
    "plt.title(\"Before Cleaning\")\n",
    "ax=sns.countplot(transcript.event)\n",
    "for p in ax.patches:\n",
    "        ax.annotate('{:}'.format(p.get_height()), (p.get_x()+0.1, p.get_height()+50))"
   ]
  },
  {
   "cell_type": "code",
   "execution_count": 48,
   "metadata": {},
   "outputs": [
    {
     "data": {
      "text/plain": [
       "transaction        138953\n",
       "offer received      76277\n",
       "offer viewed        57725\n",
       "offer completed     33579\n",
       "Name: event, dtype: int64"
      ]
     },
     "execution_count": 48,
     "metadata": {},
     "output_type": "execute_result"
    }
   ],
   "source": [
    "transcript.event.value_counts()"
   ]
  },
  {
   "cell_type": "code",
   "execution_count": 62,
   "metadata": {},
   "outputs": [
    {
     "data": {
      "image/png": "[encoded data removed]",
      "text/plain": [
       "<Figure size 432x288 with 1 Axes>"
      ]
     },
     "metadata": {
      "needs_background": "light"
     },
     "output_type": "display_data"
    }
   ],
   "source": [
    "plt.title(\"After Cleaning\")\n",
    "f=customers[['offers_received','offers_viewed', 'offers_completed']].sum().astype(int)\n",
    "f.plot.bar()\n",
    "plt.title(\"After Correction\");\n",
    "for i, event_num in enumerate(f):\n",
    "    #X position just after the end of the bar:\n",
    "    plt.text(i, event_num, event_num, ha = 'center', va = 'bottom');"
   ]
  },
  {
   "cell_type": "code",
   "execution_count": 63,
   "metadata": {},
   "outputs": [
    {
     "data": {
      "text/plain": [
       "offers_received     76277\n",
       "offers_viewed       55534\n",
       "offers_completed    19656\n",
       "dtype: int32"
      ]
     },
     "execution_count": 63,
     "metadata": {},
     "output_type": "execute_result"
    }
   ],
   "source": [
    "f"
   ]
  },
  {
   "cell_type": "code",
   "execution_count": 64,
   "metadata": {},
   "outputs": [
    {
     "data": {
      "text/html": [
       "<div>\n",
       "<style scoped>\n",
       "    .dataframe tbody tr th:only-of-type {\n",
       "        vertical-align: middle;\n",
       "    }\n",
       "\n",
       "    .dataframe tbody tr th {\n",
       "        vertical-align: top;\n",
       "    }\n",
       "\n",
       "    .dataframe thead th {\n",
       "        text-align: right;\n",
       "    }\n",
       "</style>\n",
       "<table border=\"1\" class=\"dataframe\">\n",
       "  <thead>\n",
       "    <tr style=\"text-align: right;\">\n",
       "      <th></th>\n",
       "      <th>person</th>\n",
       "      <th>id_unique</th>\n",
       "      <th>offer_received_time</th>\n",
       "      <th>offer_viewed_time</th>\n",
       "      <th>offer_completed_time</th>\n",
       "      <th>id</th>\n",
       "      <th>reward</th>\n",
       "      <th>channels</th>\n",
       "      <th>difficulty</th>\n",
       "      <th>duration</th>\n",
       "      <th>offer_type</th>\n",
       "      <th>offer_end_time</th>\n",
       "      <th>viewed_binary</th>\n",
       "      <th>viewed_on_time</th>\n",
       "      <th>completed_binary</th>\n",
       "      <th>completed_on_time</th>\n",
       "      <th>completed_after_viewing</th>\n",
       "    </tr>\n",
       "  </thead>\n",
       "  <tbody>\n",
       "    <tr>\n",
       "      <th>0</th>\n",
       "      <td>0009655768c64bdeb2e877511632db8f</td>\n",
       "      <td>2906b810c7d4411798c6938adc9daaa5-0.0</td>\n",
       "      <td>576.0</td>\n",
       "      <td>0.0</td>\n",
       "      <td>576.0</td>\n",
       "      <td>2906b810c7d4411798c6938adc9daaa5</td>\n",
       "      <td>2</td>\n",
       "      <td>['web', 'email', 'mobile']</td>\n",
       "      <td>10</td>\n",
       "      <td>7</td>\n",
       "      <td>discount</td>\n",
       "      <td>744.0</td>\n",
       "      <td>0</td>\n",
       "      <td>0</td>\n",
       "      <td>1</td>\n",
       "      <td>1</td>\n",
       "      <td>0</td>\n",
       "    </tr>\n",
       "    <tr>\n",
       "      <th>1</th>\n",
       "      <td>0009655768c64bdeb2e877511632db8f</td>\n",
       "      <td>3f207df678b143eea3cee63160fa8bed-0.0</td>\n",
       "      <td>336.0</td>\n",
       "      <td>372.0</td>\n",
       "      <td>0.0</td>\n",
       "      <td>3f207df678b143eea3cee63160fa8bed</td>\n",
       "      <td>0</td>\n",
       "      <td>['web', 'email', 'mobile']</td>\n",
       "      <td>0</td>\n",
       "      <td>4</td>\n",
       "      <td>informational</td>\n",
       "      <td>432.0</td>\n",
       "      <td>1</td>\n",
       "      <td>1</td>\n",
       "      <td>0</td>\n",
       "      <td>0</td>\n",
       "      <td>0</td>\n",
       "    </tr>\n",
       "    <tr>\n",
       "      <th>2</th>\n",
       "      <td>0009655768c64bdeb2e877511632db8f</td>\n",
       "      <td>5a8bc65990b245e5a138643cd4eb9837-0.0</td>\n",
       "      <td>168.0</td>\n",
       "      <td>192.0</td>\n",
       "      <td>0.0</td>\n",
       "      <td>5a8bc65990b245e5a138643cd4eb9837</td>\n",
       "      <td>0</td>\n",
       "      <td>['email', 'mobile', 'social']</td>\n",
       "      <td>0</td>\n",
       "      <td>3</td>\n",
       "      <td>informational</td>\n",
       "      <td>240.0</td>\n",
       "      <td>1</td>\n",
       "      <td>1</td>\n",
       "      <td>0</td>\n",
       "      <td>0</td>\n",
       "      <td>0</td>\n",
       "    </tr>\n",
       "    <tr>\n",
       "      <th>3</th>\n",
       "      <td>0009655768c64bdeb2e877511632db8f</td>\n",
       "      <td>f19421c1d4aa40978ebb69ca19b0e20d-0.0</td>\n",
       "      <td>408.0</td>\n",
       "      <td>456.0</td>\n",
       "      <td>414.0</td>\n",
       "      <td>f19421c1d4aa40978ebb69ca19b0e20d</td>\n",
       "      <td>5</td>\n",
       "      <td>['web', 'email', 'mobile', 'social']</td>\n",
       "      <td>5</td>\n",
       "      <td>5</td>\n",
       "      <td>bogo</td>\n",
       "      <td>528.0</td>\n",
       "      <td>1</td>\n",
       "      <td>1</td>\n",
       "      <td>1</td>\n",
       "      <td>1</td>\n",
       "      <td>0</td>\n",
       "    </tr>\n",
       "    <tr>\n",
       "      <th>4</th>\n",
       "      <td>0009655768c64bdeb2e877511632db8f</td>\n",
       "      <td>fafdcd668e3743c1bb461111dcafc2a4-0.0</td>\n",
       "      <td>504.0</td>\n",
       "      <td>540.0</td>\n",
       "      <td>528.0</td>\n",
       "      <td>fafdcd668e3743c1bb461111dcafc2a4</td>\n",
       "      <td>2</td>\n",
       "      <td>['web', 'email', 'mobile', 'social']</td>\n",
       "      <td>10</td>\n",
       "      <td>10</td>\n",
       "      <td>discount</td>\n",
       "      <td>744.0</td>\n",
       "      <td>1</td>\n",
       "      <td>1</td>\n",
       "      <td>1</td>\n",
       "      <td>1</td>\n",
       "      <td>0</td>\n",
       "    </tr>\n",
       "  </tbody>\n",
       "</table>\n",
       "</div>"
      ],
      "text/plain": [
       "                             person                             id_unique  \\\n",
       "0  0009655768c64bdeb2e877511632db8f  2906b810c7d4411798c6938adc9daaa5-0.0   \n",
       "1  0009655768c64bdeb2e877511632db8f  3f207df678b143eea3cee63160fa8bed-0.0   \n",
       "2  0009655768c64bdeb2e877511632db8f  5a8bc65990b245e5a138643cd4eb9837-0.0   \n",
       "3  0009655768c64bdeb2e877511632db8f  f19421c1d4aa40978ebb69ca19b0e20d-0.0   \n",
       "4  0009655768c64bdeb2e877511632db8f  fafdcd668e3743c1bb461111dcafc2a4-0.0   \n",
       "\n",
       "   offer_received_time  offer_viewed_time  offer_completed_time  \\\n",
       "0                576.0                0.0                 576.0   \n",
       "1                336.0              372.0                   0.0   \n",
       "2                168.0              192.0                   0.0   \n",
       "3                408.0              456.0                 414.0   \n",
       "4                504.0              540.0                 528.0   \n",
       "\n",
       "                                 id  reward  \\\n",
       "0  2906b810c7d4411798c6938adc9daaa5       2   \n",
       "1  3f207df678b143eea3cee63160fa8bed       0   \n",
       "2  5a8bc65990b245e5a138643cd4eb9837       0   \n",
       "3  f19421c1d4aa40978ebb69ca19b0e20d       5   \n",
       "4  fafdcd668e3743c1bb461111dcafc2a4       2   \n",
       "\n",
       "                               channels  difficulty  duration     offer_type  \\\n",
       "0            ['web', 'email', 'mobile']          10         7       discount   \n",
       "1            ['web', 'email', 'mobile']           0         4  informational   \n",
       "2         ['email', 'mobile', 'social']           0         3  informational   \n",
       "3  ['web', 'email', 'mobile', 'social']           5         5           bogo   \n",
       "4  ['web', 'email', 'mobile', 'social']          10        10       discount   \n",
       "\n",
       "   offer_end_time  viewed_binary  viewed_on_time  completed_binary  \\\n",
       "0           744.0              0               0                 1   \n",
       "1           432.0              1               1                 0   \n",
       "2           240.0              1               1                 0   \n",
       "3           528.0              1               1                 1   \n",
       "4           744.0              1               1                 1   \n",
       "\n",
       "   completed_on_time  completed_after_viewing  \n",
       "0                  1                        0  \n",
       "1                  0                        0  \n",
       "2                  0                        0  \n",
       "3                  1                        0  \n",
       "4                  1                        0  "
      ]
     },
     "execution_count": 64,
     "metadata": {},
     "output_type": "execute_result"
    }
   ],
   "source": [
    "offers.head()"
   ]
  },
  {
   "cell_type": "code",
   "execution_count": 84,
   "metadata": {},
   "outputs": [
    {
     "data": {
      "image/png": "[encoded data removed]",
      "text/plain": [
       "<Figure size 432x288 with 1 Axes>"
      ]
     },
     "metadata": {
      "needs_background": "light"
     },
     "output_type": "display_data"
    }
   ],
   "source": [
    "t=offers.offer_type.value_counts()\n",
    "plt.title(\"Recieved offers\")\n",
    "t.plot.bar()\n",
    "for i,j in enumerate(t):\n",
    "    plt.text(i,j,j,horizontalalignment='center')"
   ]
  },
  {
   "cell_type": "code",
   "execution_count": 85,
   "metadata": {},
   "outputs": [
    {
     "data": {
      "image/png": "[encoded data removed]",
      "text/plain": [
       "<Figure size 432x288 with 1 Axes>"
      ]
     },
     "metadata": {
      "needs_background": "light"
     },
     "output_type": "display_data"
    }
   ],
   "source": [
    "viewed_by_offer_type=offers[offers.viewed_on_time==1].groupby('offer_type').viewed_on_time.count()\n",
    "plt.title(\"viewed offers\")\n",
    "viewed_by_offer_type.plot.bar()\n",
    "for i ,j in enumerate(viewed_by_offer_type):\n",
    "    plt.text(i,j,j,horizontalalignment='center')"
   ]
  },
  {
   "cell_type": "code",
   "execution_count": 94,
   "metadata": {},
   "outputs": [
    {
     "data": {
      "text/plain": [
       "(0.0, 30000.0)"
      ]
     },
     "execution_count": 94,
     "metadata": {},
     "output_type": "execute_result"
    },
    {
     "data": {
      "image/png": "[encoded data removed]",
      "text/plain": [
       "<Figure size 432x288 with 1 Axes>"
      ]
     },
     "metadata": {
      "needs_background": "light"
     },
     "output_type": "display_data"
    }
   ],
   "source": [
    "completed_by_offer_type=offers[offers.completed_on_time==1].groupby(\"offer_type\").completed_on_time.count()\n",
    "completed_by_offer_type.plot.bar()\n",
    "plt.title(\"completed offers\")\n",
    "for i ,j in enumerate(completed_by_offer_type):\n",
    "    plt.text(i,j,j,ha=\"center\")\n",
    "plt.ylim(0,30000)"
   ]
  },
  {
   "cell_type": "code",
   "execution_count": 96,
   "metadata": {},
   "outputs": [
    {
     "data": {
      "image/png": "[encoded data removed]",
      "text/plain": [
       "<Figure size 432x288 with 1 Axes>"
      ]
     },
     "metadata": {
      "needs_background": "light"
     },
     "output_type": "display_data"
    }
   ],
   "source": [
    "rewards=offers[offers.completed_after_viewing==1].groupby(\"offer_type\")[\"reward\"].sum()\n",
    "plt.title(\"Total rewards by offer type\")\n",
    "rewards.plot.bar()\n",
    "for i,j in enumerate(rewards):\n",
    "    plt.text(i,j,j,ha=\"center\")\n"
   ]
  },
  {
   "cell_type": "markdown",
   "metadata": {},
   "source": [
    "## Customers Engagement with Offers - RR and CVR"
   ]
  },
  {
   "cell_type": "code",
   "execution_count": 98,
   "metadata": {},
   "outputs": [
    {
     "data": {
      "image/png": "[encoded data removed]",
      "text/plain": [
       "<Figure size 1080x360 with 7 Axes>"
      ]
     },
     "metadata": {
      "needs_background": "light"
     },
     "output_type": "display_data"
    }
   ],
   "source": [
    "cols = ['offers_rr', 'bogo_rr', 'discount_rr', 'informational_rr', 'offers_cvr', 'bogo_cvr', 'discount_cvr',]\n",
    "plt.figure(figsize=(15, 5));\n",
    "\n",
    "for i,j in enumerate(customers[cols]):\n",
    "    plt.subplot(2,4,i+1)\n",
    "    customers[j].hist()\n",
    "    plt.title(f\"{j},%\");\n",
    "    plt.ylim(0, 12000);\n",
    "    plt.tight_layout();"
   ]
  },
  {
   "cell_type": "markdown",
   "metadata": {},
   "source": [
    "Note: people view offers much more often than complete. Bogos viewed ofter than discounts or informational. However, customers complete discount offers more often than bogos."
   ]
  },
  {
   "cell_type": "code",
   "execution_count": 99,
   "metadata": {},
   "outputs": [
    {
     "data": {
      "image/png": "[encoded data removed]",
      "text/plain": [
       "<Figure size 432x288 with 2 Axes>"
      ]
     },
     "metadata": {
      "needs_background": "light"
     },
     "output_type": "display_data"
    }
   ],
   "source": [
    "cols = ['became_member_on', 'age', 'income', 'total_amount', 'avg_order_size', 'transactions_num', 'offers_cvr', 'bogo_cvr', 'discount_cvr']\n",
    "sns.heatmap(customers[cols].corr(), cmap = 'rocket_r', annot = True, fmt = '.2f');"
   ]
  },
  {
   "cell_type": "markdown",
   "metadata": {},
   "source": [
    "Note: not profile, but spending habits (like number of transactions and total amount) seem to correlate more with the conversion rates. For bogo_cvr total amount spent seems to be more defining, while for discount_cvr - transactions frequency."
   ]
  },
  {
   "cell_type": "markdown",
   "metadata": {},
   "source": [
    "## Customers-Offers Interaction"
   ]
  },
  {
   "cell_type": "code",
   "execution_count": 106,
   "metadata": {},
   "outputs": [
    {
     "name": "stdout",
     "output_type": "stream",
     "text": [
      "16994 customers recieved offers and 6 did not\n"
     ]
    }
   ],
   "source": [
    "print(f\"{(customers.offers_received!=0).sum()} customers recieved offers\",\"and\",f\"{(customers.offers_received==0).sum()} did not\")"
   ]
  },
  {
   "cell_type": "code",
   "execution_count": 121,
   "metadata": {},
   "outputs": [
    {
     "name": "stdout",
     "output_type": "stream",
     "text": [
      "out of those who recieved  16735 customers viewed the offer and  259 did not\n"
     ]
    }
   ],
   "source": [
    "print(\"out of those who recieved \",f\"{((customers.offers_received!=0) & (customers.offers_viewed!=0)).sum()} customers viewed the offer and \",f\"{((customers.offers_received!=0)&(customers.offers_viewed==0)).sum()} did not\")"
   ]
  },
  {
   "cell_type": "code",
   "execution_count": 139,
   "metadata": {},
   "outputs": [
    {
     "name": "stdout",
     "output_type": "stream",
     "text": [
      "out of those who received 10640 completed the offer\n"
     ]
    }
   ],
   "source": [
    "print(f\"out of those who received {((customers.offers_received!=0)&(customers.offers_viewed!=0)&(customers.offers_completed !=0)).sum()} completed the offer\")"
   ]
  },
  {
   "cell_type": "markdown",
   "metadata": {},
   "source": [
    "### viewing rate"
   ]
  },
  {
   "cell_type": "code",
   "execution_count": 141,
   "metadata": {},
   "outputs": [
    {
     "name": "stdout",
     "output_type": "stream",
     "text": [
      "98.4% of customers viewed offers on time\n"
     ]
    }
   ],
   "source": [
    "# total viewing rate - % customers who viewed the offers on time\n",
    "viewing_rate = (customers.offers_viewed > 0).sum()\n",
    "print(f\"{viewing_rate/customers.shape[0]*100:.1f}% of customers viewed offers on time\")"
   ]
  },
  {
   "cell_type": "markdown",
   "metadata": {},
   "source": [
    "### Rewarded Rate"
   ]
  },
  {
   "cell_type": "code",
   "execution_count": 143,
   "metadata": {},
   "outputs": [
    {
     "name": "stdout",
     "output_type": "stream",
     "text": [
      "62.6% of customers completed offers after viewing\n"
     ]
    }
   ],
   "source": [
    "#total rewarded rate - % customers who completed the offers \n",
    "rewarded_rate = (customers.offers_completed > 0).sum()\n",
    "print(f\"{rewarded_rate/customers.shape[0]*100:.1f}% of customers completed offers after viewing\")"
   ]
  },
  {
   "cell_type": "code",
   "execution_count": null,
   "metadata": {},
   "outputs": [],
   "source": []
  }
 ],
 "metadata": {
  "kernelspec": {
   "display_name": "Python 3",
   "language": "python",
   "name": "python3"
  },
  "language_info": {
   "codemirror_mode": {
    "name": "ipython",
    "version": 3
   },
   "file_extension": ".py",
   "mimetype": "text/x-python",
   "name": "python",
   "nbconvert_exporter": "python",
   "pygments_lexer": "ipython3",
   "version": "3.7.6"
  }
 },
 "nbformat": 4,
 "nbformat_minor": 4
}
